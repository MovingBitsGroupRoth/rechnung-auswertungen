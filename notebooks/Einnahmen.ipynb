{
 "cells": [
  {
   "cell_type": "code",
   "execution_count": 2,
   "metadata": {
    "collapsed": true
   },
   "outputs": [],
   "source": [
    "import pandas as pd\n"
   ]
  },
  {
   "cell_type": "code",
   "execution_count": 3,
   "outputs": [
    {
     "data": {
      "text/plain": "  Adresszusatz                Name               Straße                 Ort\n0          NaN       Marina Düsing    Friedensstraße 44  39387 Oschersleben\n1          NaN     Hilde Eichinger  Schießstättgasse 15   84307 Eggenfelden\n2          NaN   Christiane Abdoun         Kleinikon 5a  8312 Winterberg ZH\n3          NaN  Sabrina Bruggemans      Schlumpfenhof 4    6343 Holzhäusern\n4          NaN         Maxie Clauß    Teutoburgstr. 12a       01039 Dresden",
      "text/html": "<div>\n<style scoped>\n    .dataframe tbody tr th:only-of-type {\n        vertical-align: middle;\n    }\n\n    .dataframe tbody tr th {\n        vertical-align: top;\n    }\n\n    .dataframe thead th {\n        text-align: right;\n    }\n</style>\n<table border=\"1\" class=\"dataframe\">\n  <thead>\n    <tr style=\"text-align: right;\">\n      <th></th>\n      <th>Adresszusatz</th>\n      <th>Name</th>\n      <th>Straße</th>\n      <th>Ort</th>\n    </tr>\n  </thead>\n  <tbody>\n    <tr>\n      <th>0</th>\n      <td>NaN</td>\n      <td>Marina Düsing</td>\n      <td>Friedensstraße 44</td>\n      <td>39387 Oschersleben</td>\n    </tr>\n    <tr>\n      <th>1</th>\n      <td>NaN</td>\n      <td>Hilde Eichinger</td>\n      <td>Schießstättgasse 15</td>\n      <td>84307 Eggenfelden</td>\n    </tr>\n    <tr>\n      <th>2</th>\n      <td>NaN</td>\n      <td>Christiane Abdoun</td>\n      <td>Kleinikon 5a</td>\n      <td>8312 Winterberg ZH</td>\n    </tr>\n    <tr>\n      <th>3</th>\n      <td>NaN</td>\n      <td>Sabrina Bruggemans</td>\n      <td>Schlumpfenhof 4</td>\n      <td>6343 Holzhäusern</td>\n    </tr>\n    <tr>\n      <th>4</th>\n      <td>NaN</td>\n      <td>Maxie Clauß</td>\n      <td>Teutoburgstr. 12a</td>\n      <td>01039 Dresden</td>\n    </tr>\n  </tbody>\n</table>\n</div>"
     },
     "execution_count": 3,
     "metadata": {},
     "output_type": "execute_result"
    }
   ],
   "source": [
    "df = pd.read_csv(r\"E:\\SR Kreativwerkstatt\\Rechnungen\\2023\\rechnungen_2023.csv\", sep = ';', usecols=list(range(4)))\n",
    "\n",
    "df.head()\n"
   ],
   "metadata": {
    "collapsed": false
   }
  },
  {
   "cell_type": "code",
   "execution_count": null,
   "outputs": [],
   "source": [],
   "metadata": {
    "collapsed": false
   }
  }
 ],
 "metadata": {
  "kernelspec": {
   "display_name": "Python 3",
   "language": "python",
   "name": "python3"
  },
  "language_info": {
   "codemirror_mode": {
    "name": "ipython",
    "version": 2
   },
   "file_extension": ".py",
   "mimetype": "text/x-python",
   "name": "python",
   "nbconvert_exporter": "python",
   "pygments_lexer": "ipython2",
   "version": "2.7.6"
  }
 },
 "nbformat": 4,
 "nbformat_minor": 0
}
